{
 "cells": [
  {
   "cell_type": "code",
   "execution_count": 1,
   "metadata": {},
   "outputs": [
    {
     "name": "stderr",
     "output_type": "stream",
     "text": [
      "normalizer.cc(51) LOG(INFO) precompiled_charsmap is empty. use identity normalization.\n",
      "100%|██████████| 12528/12528 [00:03<00:00, 3826.85it/s]\n"
     ]
    },
    {
     "name": "stdout",
     "output_type": "stream",
     "text": [
      "0 bad sentences in original_train; Possible unicode issues if > 0\n"
     ]
    },
    {
     "name": "stderr",
     "output_type": "stream",
     "text": [
      "100%|██████████| 2775/2775 [00:00<00:00, 3755.23it/s]\n"
     ]
    },
    {
     "name": "stdout",
     "output_type": "stream",
     "text": [
      "0 bad sentences in original_validation; Possible unicode issues if > 0\n"
     ]
    },
    {
     "name": "stderr",
     "output_type": "stream",
     "text": [
      "100%|██████████| 2581/2581 [00:00<00:00, 3892.23it/s]\n"
     ]
    },
    {
     "name": "stdout",
     "output_type": "stream",
     "text": [
      "0 bad sentences in original_test; Possible unicode issues if > 0\n"
     ]
    },
    {
     "name": "stderr",
     "output_type": "stream",
     "text": [
      "100%|██████████| 12528/12528 [00:03<00:00, 3932.30it/s]\n"
     ]
    },
    {
     "name": "stdout",
     "output_type": "stream",
     "text": [
      "0 bad sentences in corrected_train; Possible unicode issues if > 0\n"
     ]
    },
    {
     "name": "stderr",
     "output_type": "stream",
     "text": [
      "100%|██████████| 2775/2775 [00:00<00:00, 3559.43it/s]\n"
     ]
    },
    {
     "name": "stdout",
     "output_type": "stream",
     "text": [
      "0 bad sentences in corrected_validation; Possible unicode issues if > 0\n"
     ]
    },
    {
     "name": "stderr",
     "output_type": "stream",
     "text": [
      "100%|██████████| 2581/2581 [00:00<00:00, 3901.14it/s]\n"
     ]
    },
    {
     "name": "stdout",
     "output_type": "stream",
     "text": [
      "0 bad sentences in corrected_test; Possible unicode issues if > 0\n"
     ]
    },
    {
     "name": "stderr",
     "output_type": "stream",
     "text": [
      "100%|██████████| 879/879 [00:01<00:00, 623.96it/s]\n",
      "100%|██████████| 197/197 [00:00<00:00, 589.81it/s]\n",
      "100%|██████████| 194/194 [00:00<00:00, 631.69it/s]\n",
      "100%|██████████| 879/879 [00:01<00:00, 618.46it/s]\n",
      "100%|██████████| 197/197 [00:00<00:00, 591.27it/s]\n",
      "100%|██████████| 194/194 [00:00<00:00, 624.87it/s]\n"
     ]
    }
   ],
   "source": [
    "from ner_influence.modelling.datamodule import NERDataModule\n",
    "import os\n",
    "\n",
    "os.environ[\"TOKENIZERS_PARALLELISM\"] = \"false\"\n",
    "transformer: str = \"google/bigbird-roberta-base\"\n",
    "\n",
    "data = NERDataModule(\n",
    "    splits={\n",
    "        \"original_train\": \"data/conll_corrected/train_original.jsonl\",\n",
    "        \"original_validation\": \"data/conll_corrected/validation_original.jsonl\",\n",
    "        \"original_test\": \"data/conll_corrected/test_original.jsonl\",\n",
    "        \"corrected_train\": \"data/conll_corrected/train_corrected.jsonl\",\n",
    "        \"corrected_validation\": \"data/conll_corrected/validation_corrected.jsonl\",\n",
    "        \"corrected_test\": \"data/conll_corrected/test_corrected.jsonl\"\n",
    "    },\n",
    "    label_list=None,\n",
    "    transformer=transformer,\n",
    "    batch_size=3,\n",
    ")\n",
    "data.setup()\n",
    "\n",
    "conll_key = lambda x: x.id.rsplit(\"_\", 1)[0]\n",
    "conll_order = lambda x: int(x.id.rsplit(\"_\", 1)[1])\n",
    "\n",
    "for t in [\"original\", \"corrected\"]:\n",
    "    for split in [\"train\", \"validation\", \"test\"]:\n",
    "        split = f\"{t}_{split}\"\n",
    "        docs = data.combine_to_docs(data[split], key=conll_key, order=conll_order)\n",
    "        data[f\"{split}_docs\"] = [doc for doc in docs.values() if len(doc.tokens) < 800]\n",
    "        data[f\"{split}_docs\"] = data.apply_transform(data[f\"{split}_docs\"], lambda x: x, retokenize=True)"
   ]
  },
  {
   "cell_type": "code",
   "execution_count": 2,
   "metadata": {},
   "outputs": [],
   "source": [
    "data.set_train_split(\"original_train_docs\")\n",
    "data.set_validation_splits([\"original_validation_docs\"])"
   ]
  },
  {
   "cell_type": "code",
   "execution_count": 3,
   "metadata": {},
   "outputs": [],
   "source": [
    "# from ner_influence.modelling.trainer import train_ner_model\n",
    "# model = train_ner_model(data, \"outputs/conll_noisecheck_bigbird/seed:2021\", use_crf=True, seed=2021)"
   ]
  },
  {
   "cell_type": "code",
   "execution_count": 4,
   "metadata": {},
   "outputs": [],
   "source": [
    "model_path = \"outputs/conll_noisecheck_bigbird/seed:2021\""
   ]
  },
  {
   "cell_type": "code",
   "execution_count": 6,
   "metadata": {},
   "outputs": [
    {
     "name": "stderr",
     "output_type": "stream",
     "text": [
      "Some weights of the model checkpoint at google/bigbird-roberta-base were not used when initializing BigBirdModel: ['cls.predictions.transform.LayerNorm.weight', 'cls.predictions.transform.dense.weight', 'cls.predictions.bias', 'cls.predictions.decoder.weight', 'cls.predictions.transform.LayerNorm.bias', 'cls.seq_relationship.bias', 'cls.seq_relationship.weight', 'cls.predictions.decoder.bias', 'cls.predictions.transform.dense.bias']\n",
      "- This IS expected if you are initializing BigBirdModel from the checkpoint of a model trained on another task or with another architecture (e.g. initializing a BertForSequenceClassification model from a BertForPreTraining model).\n",
      "- This IS NOT expected if you are initializing BigBirdModel from the checkpoint of a model that you expect to be exactly identical (initializing a BertForSequenceClassification model from a BertForSequenceClassification model).\n",
      "GPU available: True, used: True\n",
      "TPU available: False, using: 0 TPU cores\n",
      "IPU available: False, using: 0 IPUs\n",
      "LOCAL_RANK: 0 - CUDA_VISIBLE_DEVICES: [0,1]\n"
     ]
    },
    {
     "data": {
      "application/vnd.jupyter.widget-view+json": {
       "model_id": "1cc2b72a0c2d4294b49be329eeba00bc",
       "version_major": 2,
       "version_minor": 0
      },
      "text/plain": [
       "Predicting: 0it [00:00, ?it/s]"
      ]
     },
     "metadata": {},
     "output_type": "display_data"
    },
    {
     "data": {
      "text/html": [
       "<div>\n",
       "<style scoped>\n",
       "    .dataframe tbody tr th:only-of-type {\n",
       "        vertical-align: middle;\n",
       "    }\n",
       "\n",
       "    .dataframe tbody tr th {\n",
       "        vertical-align: top;\n",
       "    }\n",
       "\n",
       "    .dataframe thead th {\n",
       "        text-align: right;\n",
       "    }\n",
       "</style>\n",
       "<table border=\"1\" class=\"dataframe\">\n",
       "  <thead>\n",
       "    <tr style=\"text-align: right;\">\n",
       "      <th></th>\n",
       "      <th>LOC</th>\n",
       "      <th>MISC</th>\n",
       "      <th>ORG</th>\n",
       "      <th>PER</th>\n",
       "      <th>micro avg</th>\n",
       "      <th>macro avg</th>\n",
       "      <th>weighted avg</th>\n",
       "    </tr>\n",
       "  </thead>\n",
       "  <tbody>\n",
       "    <tr>\n",
       "      <th>precision</th>\n",
       "      <td>0.935229</td>\n",
       "      <td>0.839286</td>\n",
       "      <td>0.888703</td>\n",
       "      <td>0.970732</td>\n",
       "      <td>0.918737</td>\n",
       "      <td>0.908487</td>\n",
       "      <td>0.918998</td>\n",
       "    </tr>\n",
       "    <tr>\n",
       "      <th>recall</th>\n",
       "      <td>0.925000</td>\n",
       "      <td>0.843393</td>\n",
       "      <td>0.903830</td>\n",
       "      <td>0.969943</td>\n",
       "      <td>0.920447</td>\n",
       "      <td>0.910542</td>\n",
       "      <td>0.920447</td>\n",
       "    </tr>\n",
       "    <tr>\n",
       "      <th>f1-score</th>\n",
       "      <td>0.930086</td>\n",
       "      <td>0.841334</td>\n",
       "      <td>0.896203</td>\n",
       "      <td>0.970337</td>\n",
       "      <td>0.919591</td>\n",
       "      <td>0.909490</td>\n",
       "      <td>0.919696</td>\n",
       "    </tr>\n",
       "    <tr>\n",
       "      <th>support</th>\n",
       "      <td>1280.000000</td>\n",
       "      <td>613.000000</td>\n",
       "      <td>1175.000000</td>\n",
       "      <td>1231.000000</td>\n",
       "      <td>4299.000000</td>\n",
       "      <td>4299.000000</td>\n",
       "      <td>4299.000000</td>\n",
       "    </tr>\n",
       "  </tbody>\n",
       "</table>\n",
       "</div>"
      ],
      "text/plain": [
       "                   LOC        MISC          ORG          PER    micro avg  \\\n",
       "precision     0.935229    0.839286     0.888703     0.970732     0.918737   \n",
       "recall        0.925000    0.843393     0.903830     0.969943     0.920447   \n",
       "f1-score      0.930086    0.841334     0.896203     0.970337     0.919591   \n",
       "support    1280.000000  613.000000  1175.000000  1231.000000  4299.000000   \n",
       "\n",
       "             macro avg  weighted avg  \n",
       "precision     0.908487      0.918998  \n",
       "recall        0.910542      0.920447  \n",
       "f1-score      0.909490      0.919696  \n",
       "support    4299.000000   4299.000000  "
      ]
     },
     "execution_count": 6,
     "metadata": {},
     "output_type": "execute_result"
    }
   ],
   "source": [
    "from ner_influence.modelling.trainer import evaluate_ner_model\n",
    "evaluate_ner_model(data, model_path, \"original_test_docs\")"
   ]
  },
  {
   "cell_type": "code",
   "execution_count": null,
   "metadata": {},
   "outputs": [],
   "source": [
    "# evaluate_ner_model(data, model_path, \"corrected_validation_docs\")"
   ]
  },
  {
   "cell_type": "code",
   "execution_count": null,
   "metadata": {},
   "outputs": [],
   "source": [
    "from ner_influence.modelling.scaffolding import NERTransformerScaffolding \n",
    "scaffolding = NERTransformerScaffolding(data, \"outputs/conll_noisecheck_bigbird/seed:2021\", save_outputs=True)"
   ]
  },
  {
   "cell_type": "code",
   "execution_count": null,
   "metadata": {},
   "outputs": [],
   "source": [
    "training_split = \"original_train_docs\""
   ]
  },
  {
   "cell_type": "code",
   "execution_count": null,
   "metadata": {},
   "outputs": [],
   "source": [
    "from ner_influence.scoring_functions import *\n",
    "instance_losses = dict(list(instance_loss_scorer(scaffolding.get_outputs(training_split, with_feature_vectors=True))))\n",
    "instance_gradient = dict(list(instance_gradient_scorer(scaffolding.get_outputs(training_split, with_feature_vectors=True))))"
   ]
  },
  {
   "cell_type": "code",
   "execution_count": null,
   "metadata": {},
   "outputs": [],
   "source": [
    "token_marginal_max_ent = dict(list(token_marginal_entropy_scorer(scaffolding.get_outputs(training_split, with_feature_vectors=True), np.max)))\n",
    "token_marginal_mean_ent = dict(list(token_marginal_entropy_scorer(scaffolding.get_outputs(training_split, with_feature_vectors=True), np.mean)))\n",
    "token_marginal_max_loss = dict(list(token_marginal_loss_scorer(scaffolding.get_outputs(training_split, with_feature_vectors=True), np.max)))\n",
    "token_marginal_mean_loss = dict(list(token_marginal_loss_scorer(scaffolding.get_outputs(training_split, with_feature_vectors=True), np.mean)))\n",
    "token_marginal_max_grad = dict(list(token_gradient_scorer(scaffolding.get_outputs(training_split, with_feature_vectors=True), np.max)))\n",
    "token_marginal_mean_grad = dict(list(token_gradient_scorer(scaffolding.get_outputs(training_split, with_feature_vectors=True), np.mean)))"
   ]
  },
  {
   "cell_type": "code",
   "execution_count": null,
   "metadata": {},
   "outputs": [],
   "source": [
    "data[\"expert\"] = [\n",
    "    x\n",
    "    for x, y in zip(data[\"corrected_validation_docs\"], data[\"original_validation_docs\"])\n",
    "    if x.labels != y.labels\n",
    "]\n",
    "data[\"expert\"] = np.random.RandomState(seed=2021).choice(data[\"expert\"], size=10, replace=False)\n",
    "len(data[\"expert\"])"
   ]
  },
  {
   "cell_type": "code",
   "execution_count": null,
   "metadata": {},
   "outputs": [],
   "source": [
    "from ner_influence.instance_influence_indexing import InstanceIndexer \n",
    "\n",
    "indexer = InstanceIndexer(scaffolding, normalize=False)\n",
    "indexer.create_index(\"expert\")\n",
    "indexer.generate_influence_vectors(training_split, label_set=\"gold\")\n",
    "\n",
    "normalized_indexer = InstanceIndexer(scaffolding, normalize=True)\n",
    "normalized_indexer.create_index(\"expert\")\n",
    "normalized_indexer.generate_influence_vectors(training_split, label_set=\"gold\")"
   ]
  },
  {
   "cell_type": "code",
   "execution_count": null,
   "metadata": {},
   "outputs": [],
   "source": [
    "from tqdm import tqdm\n",
    "neighbors = indexer.batched_search([x.id for x in data[training_split]], k=10, batch_size=50)\n",
    "normalized_neighbors = normalized_indexer.batched_search([x.id for x in data[training_split]], k=10, batch_size=50)\n",
    "\n",
    "instance_influence_scores = []\n",
    "normalized_instance_influence_scores = []\n",
    "\n",
    "for x in tqdm(data._dataset[training_split]):\n",
    "    supps, opps = next(neighbors)\n",
    "    _, D_supp = tuple(zip(*supps))\n",
    "    _, D_opp = tuple(zip(*opps))\n",
    "\n",
    "    score = sum(D_opp) / 10 #(sum(D_opp) - sum(D_supp)) / 5\n",
    "    instance_influence_scores.append(score)\n",
    "\n",
    "    supps, opps = next(normalized_neighbors)\n",
    "    _, D_supp = tuple(zip(*supps))\n",
    "    _, D_opp = tuple(zip(*opps))\n",
    "\n",
    "    score = sum(D_opp) / 10 #(sum(D_opp) - sum(D_supp)) / 5\n",
    "    normalized_instance_influence_scores.append(score)"
   ]
  },
  {
   "cell_type": "code",
   "execution_count": null,
   "metadata": {},
   "outputs": [],
   "source": [
    "from ner_influence.np_entity_influence_indexing import NumpyEntityIndexer\n",
    "indexer = NumpyEntityIndexer(scaffolding, normalize=False)\n",
    "indexer.create_index(\"expert\")\n",
    "indexer.generate_influence_vectors(training_split, label_set=\"gold\")\n",
    "\n",
    "normalized_indexer = NumpyEntityIndexer(scaffolding, normalize=True)\n",
    "normalized_indexer.create_index(\"expert\")\n",
    "normalized_indexer.generate_influence_vectors(training_split, label_set=\"gold\")"
   ]
  },
  {
   "cell_type": "code",
   "execution_count": null,
   "metadata": {},
   "outputs": [],
   "source": [
    "neighbors = indexer.batched_search(\n",
    "    [\n",
    "        (inst.id, i)\n",
    "        for inst in data[training_split]\n",
    "        for i in range(len(inst.tokens))\n",
    "    ],\n",
    "    k=10, \n",
    "    batch_size=300\n",
    ")\n",
    "\n",
    "normalized_neighbors = normalized_indexer.batched_search(\n",
    "    [\n",
    "        (inst.id, i)\n",
    "        for inst in data[training_split]\n",
    "        for i in range(len(inst.tokens))\n",
    "    ],\n",
    "    k=10, \n",
    "    batch_size=300\n",
    ")\n",
    "entity_influence_max = []\n",
    "entity_influence_mean = []\n",
    "\n",
    "normalized_entity_influence_max = []\n",
    "normalized_entity_influence_mean = []\n",
    "for inst in tqdm(data[training_split]):\n",
    "    token_scores = []\n",
    "    for i in range(len(inst.tokens)):\n",
    "        supps, opps = next(neighbors)\n",
    "        _, _, D_supp = tuple(zip(*supps))\n",
    "        _, _, D_opp = tuple(zip(*opps))\n",
    "\n",
    "        score = sum(D_opp) / 10 #(sum(D_opp) - sum(D_supp)) / 5\n",
    "        token_scores.append(score)\n",
    "\n",
    "    entity_influence_max.append(np.max(token_scores))\n",
    "    entity_influence_mean.append(np.mean(token_scores))\n",
    "\n",
    "    token_scores = []\n",
    "    for i in range(len(inst.tokens)):\n",
    "        supps, opps = next(normalized_neighbors)\n",
    "        _, _, D_supp = tuple(zip(*supps))\n",
    "        _, _, D_opp = tuple(zip(*opps))\n",
    "\n",
    "        score = sum(D_opp) / 10 #(sum(D_opp) - sum(D_supp)) / 5\n",
    "        token_scores.append(score)\n",
    "\n",
    "    normalized_entity_influence_max.append(np.max(token_scores))\n",
    "    normalized_entity_influence_mean.append(np.mean(token_scores))"
   ]
  },
  {
   "cell_type": "code",
   "execution_count": null,
   "metadata": {},
   "outputs": [],
   "source": [
    "from ner_influence.nearest_neighbor_indexing import NNIndexer\n",
    "indexer = NNIndexer(scaffolding, normalize=False)\n",
    "indexer.create_index(\"expert\")\n",
    "indexer.generate_influence_vectors(training_split)\n",
    "\n",
    "normalized_indexer = NNIndexer(scaffolding, normalize=True)\n",
    "normalized_indexer.create_index(\"expert\")\n",
    "normalized_indexer.generate_influence_vectors(training_split)"
   ]
  },
  {
   "cell_type": "code",
   "execution_count": null,
   "metadata": {},
   "outputs": [],
   "source": [
    "neighbors = indexer.batched_search([(inst.id, i) for inst in data[training_split] for i in range(len(inst.tokens))], k=10, batch_size=300)\n",
    "normalized_neighbors = normalized_indexer.batched_search([(inst.id, i) for inst in data[training_split] for i in range(len(inst.tokens))], \n",
    "                                                            k=10, batch_size=300)\n",
    "entity_sim_max = []\n",
    "entity_sim_mean = []\n",
    "\n",
    "normalized_entity_sim_max = []\n",
    "normalized_entity_sim_mean = []\n",
    "\n",
    "for inst in tqdm(data[training_split]):\n",
    "    token_scores = []\n",
    "    for i in range(len(inst.tokens)):\n",
    "        top_neigh = next(neighbors)\n",
    "        token_label = data._label_list.index(inst.labels[i])\n",
    "\n",
    "        supps = top_neigh[token_label]\n",
    "        opps = [ex for j, n in enumerate(top_neigh) if j != token_label for ex in n]\n",
    "        opps = sorted(opps, key=lambda x: x[2])[-10:]\n",
    "        \n",
    "        _, _, D_supp = tuple(zip(*supps))\n",
    "        _, _, D_opp = tuple(zip(*opps))\n",
    "\n",
    "        score = sum(D_opp) / 10 #(sum(D_opp) - sum(D_supp)) / 5\n",
    "        token_scores.append(score)\n",
    "\n",
    "    entity_sim_max.append(np.max(token_scores))\n",
    "    entity_sim_mean.append(np.mean(token_scores))\n",
    "\n",
    "    token_scores = []\n",
    "    for i in range(len(inst.tokens)):\n",
    "        top_neigh = next(normalized_neighbors)\n",
    "        token_label = data._label_list.index(inst.labels[i])\n",
    "\n",
    "        supps = top_neigh[token_label]\n",
    "        opps = [ex for j, n in enumerate(top_neigh) if j != token_label for ex in n]\n",
    "        opps = sorted(opps, key=lambda x: x[2])[-10:]\n",
    "\n",
    "        score = sum(D_opp) / 10 #(sum(D_opp) - sum(D_supp)) / 5\n",
    "        token_scores.append(score)\n",
    "\n",
    "    normalized_entity_sim_max.append(np.max(token_scores))\n",
    "    normalized_entity_sim_mean.append(np.mean(token_scores))"
   ]
  },
  {
   "cell_type": "code",
   "execution_count": null,
   "metadata": {},
   "outputs": [],
   "source": [
    "diff = lambda x, y: sum([1 if u != v else 0 for u, v in zip(x, y)])\n",
    "changes = [1 if x.labels != y.labels else 0 for x, y in zip(data[\"original_train_docs\"], data[\"corrected_train_docs\"])]"
   ]
  },
  {
   "cell_type": "code",
   "execution_count": null,
   "metadata": {},
   "outputs": [],
   "source": [
    "import matplotlib.pyplot as plt \n",
    "import matplotlib\n",
    "matplotlib.rcParams.update({'font.size': 20})\n",
    "%config InlineBackend.figure_format = 'retina'\n",
    "matplotlib.rcParams['axes.spines.right'] = False\n",
    "matplotlib.rcParams['axes.spines.top'] = False\n",
    "order = lambda scores: [scores[x.id] for x in data[\"original_train_docs\"]]\n",
    "\n",
    "base_cmap = plt.cm.get_cmap(plt.get_cmap(\"Blues\"))(np.linspace(0.5, 1, 3))\n",
    "inf_cmap = plt.cm.get_cmap(plt.get_cmap(\"Reds\"))(np.linspace(0.5, 1, 3))\n",
    "\n",
    "fig = plt.figure(figsize=(8, 7))\n",
    "ax = plt.subplot(111)\n",
    "changes = np.array(changes)\n",
    "N = sum(changes) #/ 100\n",
    "ax.plot(np.cumsum(sum(changes) / len(changes) * np.ones_like(changes)) / N, label=\"Random\", linestyle=\":\", c=\"black\")\n",
    "ax.plot(np.cumsum(changes[np.argsort(-np.array(order(instance_losses)))]) / N, label=\"Instance Loss\", c=base_cmap[1], linewidth=2, linestyle=(0, (5, 3)))\n",
    "ax.plot(np.cumsum(changes[np.argsort(-np.array(order(token_marginal_mean_loss)))]) / N, label=\"Token Marginal Mean Loss\", c=base_cmap[1], linewidth=2, linestyle=\"solid\")\n",
    "\n",
    "ax.plot(np.cumsum(changes[np.argsort(-np.array(instance_influence_scores))]) / N, label=\"Instance Influence\", c=inf_cmap[1], linewidth=2, linestyle=(0, (5, 3)), alpha=0.8) # Check\n",
    "ax.plot(np.cumsum(changes[np.argsort(-np.array(entity_influence_max))]) / N, label=\"Max Segment Influence\", c=inf_cmap[1], linewidth=2, linestyle=\"solid\")\n",
    "ax.plot(np.cumsum(changes[np.argsort(-np.array(entity_sim_max))]) / N, label=\"Max Segment NN\", c=inf_cmap[1], linewidth=2, linestyle=\"-.\", alpha=0.8)\n",
    "\n",
    "ax.set_xlabel(\"Num. of Training Examples\")\n",
    "ax.set_ylabel(\"Fraction of Bad Examples Found\")\n",
    "\n",
    "label_params = ax.get_legend_handles_labels() \n",
    "plt.tight_layout()\n",
    "plt.savefig(f\"CoNLL_errors.pdf\", bbox_inches='tight')"
   ]
  },
  {
   "cell_type": "code",
   "execution_count": null,
   "metadata": {},
   "outputs": [],
   "source": [
    "figl, axl = plt.subplots()\n",
    "axl.axis(False)\n",
    "axl.legend(*label_params, ncol=3, shadow=False, fancybox=False, loc=\"center\", bbox_to_anchor=(0.5, 0.5))\n",
    "figl.tight_layout()\n",
    "figl.savefig(f\"CoNLL_errors_legend.pdf\", bbox_inches='tight')"
   ]
  },
  {
   "cell_type": "code",
   "execution_count": null,
   "metadata": {},
   "outputs": [],
   "source": [
    "base_methods = {\n",
    "    \"Instance Loss\": instance_losses,\n",
    "    \"Instance Gradient\": instance_gradient,\n",
    "    \"Token Max Loss\": token_marginal_max_loss,\n",
    "    \"Token Mean Loss\": token_marginal_mean_loss,\n",
    "    \"Token Max Entropy\": token_marginal_max_ent,\n",
    "    \"Token Mean Entropy\": token_marginal_mean_ent,\n",
    "    \"Token Max Gradient\": token_marginal_max_grad,\n",
    "    \"Token Mean Gradient\": token_marginal_mean_grad,\n",
    "}\n",
    "\n",
    "inf_methods = {\n",
    "    \"Instance Influence\": instance_influence_scores,\n",
    "    \"Segment Influence (Max)\": entity_influence_max,\n",
    "    \"Segment Influence (Mean)\": entity_influence_mean,\n",
    "    \"Segment NN (Max)\": entity_sim_max,\n",
    "    \"Segment NN (Mean)\": entity_sim_mean,\n",
    "}"
   ]
  },
  {
   "cell_type": "code",
   "execution_count": null,
   "metadata": {},
   "outputs": [],
   "source": [
    "from itertools import cycle, product\n",
    "order = lambda scores: [scores[x.id] for x in data[\"original_train_docs\"]]\n",
    "\n",
    "matplotlib.rcParams[\"axes.spines.right\"] = False\n",
    "matplotlib.rcParams[\"axes.spines.top\"] = False\n",
    "matplotlib.rcParams.update({\"font.size\": 20})\n",
    "import numpy as np\n",
    "\n",
    "base_color_cycle = list(plt.cm.get_cmap(plt.get_cmap(\"Blues\"))(np.linspace(0.5, 1, 3)))[::-1]\n",
    "base_linestyle_cycle = [\"solid\", \"dashed\", \"dashdot\", \"dotted\"]\n",
    "base_cycle = cycle(list(product(base_color_cycle, base_linestyle_cycle)))\n",
    "\n",
    "inf_color_cycle = list(plt.cm.get_cmap(plt.get_cmap(\"Reds\"))(np.linspace(0.5, 1, 3)))[::-1]\n",
    "inf_linestyle_cycle = [\"solid\", \"dashed\", \"dashdot\", \"dotted\"]\n",
    "inf_cycle = cycle(list(product(inf_color_cycle, inf_linestyle_cycle)))\n",
    "\n",
    "fig = plt.figure(figsize=(10, 8))\n",
    "ax = fig.add_subplot(111)\n",
    "N = sum(changes)\n",
    "\n",
    "\n",
    "changes = np.array(changes)\n",
    "ax.plot(\n",
    "    np.cumsum(sum(changes) / len(changes) * np.ones_like(changes)) / N,\n",
    "    label=\"Random\",\n",
    "    linestyle=\":\",\n",
    "    c=\"black\",\n",
    ")\n",
    "\n",
    "\n",
    "for method, scores in base_methods.items():\n",
    "    c, linestyle = next(base_cycle)\n",
    "    ax.plot(\n",
    "        np.cumsum(changes[np.argsort(-np.array(order(scores)))]) / N,\n",
    "        label=method,\n",
    "        linestyle=linestyle,\n",
    "        c=c,\n",
    "    )\n",
    "\n",
    "for method, scores in inf_methods.items():\n",
    "    c, linestyle = next(inf_cycle)\n",
    "    ax.plot(\n",
    "        np.cumsum(changes[np.argsort(-np.array(scores))]) / N,\n",
    "        label=method,\n",
    "        linestyle=linestyle,\n",
    "        c=c,\n",
    "    )\n",
    "\n",
    "# ax.legend(loc='upper center', bbox_to_anchor=(0.5, -0.15), fancybox=False, shadow=False, ncol=2, frameon=False)\n",
    "label_params = ax.get_legend_handles_labels() \n",
    "ax.set_xlabel(\"Num. of Training Examples\")\n",
    "ax.set_ylabel(\"Fraction of Bad Examples Found\")\n",
    "fig.tight_layout()\n",
    "plt.savefig(f\"CoNLL_errors_full.pdf\", bbox_inches='tight')"
   ]
  },
  {
   "cell_type": "code",
   "execution_count": null,
   "metadata": {},
   "outputs": [],
   "source": [
    "figl, axl = plt.subplots()\n",
    "axl.axis(False)\n",
    "axl.legend(*label_params, ncol=2, shadow=False, fancybox=False, loc=\"center\", bbox_to_anchor=(0.5, 0.5))\n",
    "figl.tight_layout()\n",
    "figl.savefig(f\"CoNLL_errors_full_legend.pdf\", bbox_inches='tight')"
   ]
  },
  {
   "cell_type": "code",
   "execution_count": null,
   "metadata": {},
   "outputs": [],
   "source": []
  }
 ],
 "metadata": {
  "interpreter": {
   "hash": "ec60fe6eda9024476a390055a4f9290908315f18e2fea088e69d38770a436d29"
  },
  "kernelspec": {
   "display_name": "Python 3.9.6 ('ner_influence')",
   "language": "python",
   "name": "python3"
  },
  "language_info": {
   "codemirror_mode": {
    "name": "ipython",
    "version": 3
   },
   "file_extension": ".py",
   "mimetype": "text/x-python",
   "name": "python",
   "nbconvert_exporter": "python",
   "pygments_lexer": "ipython3",
   "version": "3.9.6"
  },
  "orig_nbformat": 4
 },
 "nbformat": 4,
 "nbformat_minor": 2
}
