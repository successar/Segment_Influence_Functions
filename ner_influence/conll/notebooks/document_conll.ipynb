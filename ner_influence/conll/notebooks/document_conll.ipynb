{
 "cells": [
  {
   "cell_type": "code",
   "execution_count": 1,
   "metadata": {},
   "outputs": [
    {
     "name": "stderr",
     "output_type": "stream",
     "text": [
      "normalizer.cc(51) LOG(INFO) precompiled_charsmap is empty. use identity normalization.\n",
      "100%|██████████| 12528/12528 [00:03<00:00, 3747.07it/s]\n"
     ]
    },
    {
     "name": "stdout",
     "output_type": "stream",
     "text": [
      "0 bad sentences in train; Possible unicode issues if > 0\n"
     ]
    },
    {
     "name": "stderr",
     "output_type": "stream",
     "text": [
      "100%|██████████| 2775/2775 [00:00<00:00, 3604.41it/s]\n"
     ]
    },
    {
     "name": "stdout",
     "output_type": "stream",
     "text": [
      "0 bad sentences in validation; Possible unicode issues if > 0\n"
     ]
    },
    {
     "name": "stderr",
     "output_type": "stream",
     "text": [
      "100%|██████████| 2581/2581 [00:00<00:00, 2995.10it/s]"
     ]
    },
    {
     "name": "stdout",
     "output_type": "stream",
     "text": [
      "0 bad sentences in test; Possible unicode issues if > 0\n"
     ]
    },
    {
     "name": "stderr",
     "output_type": "stream",
     "text": [
      "\n"
     ]
    },
    {
     "data": {
      "text/plain": [
       "['O', 'B-LOC', 'B-MISC', 'B-ORG', 'B-PER', 'I-LOC', 'I-MISC', 'I-ORG', 'I-PER']"
      ]
     },
     "execution_count": 1,
     "metadata": {},
     "output_type": "execute_result"
    }
   ],
   "source": [
    "from ner_influence.modelling.datamodule import NERDataModule\n",
    "data = NERDataModule(\n",
    "    splits={\n",
    "        \"train\": \"data/conll_corrected/train_corrected.jsonl\",\n",
    "        \"validation\": \"data/conll_corrected/validation_corrected.jsonl\",\n",
    "        \"test\": \"data/conll_corrected/test_corrected.jsonl\",\n",
    "    },\n",
    "    label_list=None,\n",
    "    batch_size=1,\n",
    "    transformer=\"google/bigbird-roberta-base\"\n",
    ")\n",
    "data.setup()\n",
    "data._label_list "
   ]
  },
  {
   "cell_type": "code",
   "execution_count": null,
   "metadata": {},
   "outputs": [],
   "source": []
  },
  {
   "cell_type": "code",
   "execution_count": 2,
   "metadata": {},
   "outputs": [
    {
     "name": "stderr",
     "output_type": "stream",
     "text": [
      "100%|██████████| 879/879 [00:01<00:00, 571.19it/s]\n",
      "100%|██████████| 197/197 [00:00<00:00, 577.39it/s]\n",
      "100%|██████████| 194/194 [00:00<00:00, 628.58it/s]\n"
     ]
    }
   ],
   "source": [
    "conll_key = lambda x: x.id.rsplit(\"_\", 1)[0]\n",
    "conll_order = lambda x: int(x.id.rsplit(\"_\", 1)[1])\n",
    "\n",
    "for split in [\"train\", \"validation\", \"test\"]:\n",
    "    docs = data.combine_to_docs(data[split], key=conll_key, order=conll_order)\n",
    "    data[f\"{split}_docs\"] = [doc for doc in docs.values() if len(doc.tokens) < 800]\n",
    "    data[f\"{split}_docs\"] = data.apply_transform(data[f\"{split}_docs\"], lambda x: x, retokenize=True)"
   ]
  },
  {
   "cell_type": "code",
   "execution_count": 3,
   "metadata": {},
   "outputs": [
    {
     "name": "stdout",
     "output_type": "stream",
     "text": [
      "879\n",
      "197\n",
      "194\n"
     ]
    }
   ],
   "source": [
    "for split in [\"train\", \"validation\", \"test\"]:\n",
    "    print(len(data[f\"{split}_docs\"]))"
   ]
  },
  {
   "cell_type": "code",
   "execution_count": null,
   "metadata": {},
   "outputs": [],
   "source": [
    "# from ner_influence.modelling.trainer import train_ner_model\n",
    "\n",
    "# data.set_train_split(\"train_docs\")\n",
    "# data.set_validation_splits([\"validation_docs\"])\n",
    "# model = train_ner_model(data, \"outputs/conll_bigbird/seed:2021\", use_crf=True, seed=2021)"
   ]
  },
  {
   "cell_type": "code",
   "execution_count": null,
   "metadata": {},
   "outputs": [],
   "source": [
    "from ner_influence.modelling.trainer import evaluate_ner_model\n",
    "evaluate_ner_model(data, \"outputs/conll_bigbird/seed:2021\", \"validation_docs\")"
   ]
  },
  {
   "cell_type": "code",
   "execution_count": null,
   "metadata": {},
   "outputs": [],
   "source": [
    "from ner_influence.modelling.trainer import predict_ner_model\n",
    "prediction = predict_ner_model(data, \"outputs/conll_bigbird/seed:2021\", \"validation_docs\")"
   ]
  },
  {
   "cell_type": "code",
   "execution_count": null,
   "metadata": {},
   "outputs": [],
   "source": []
  }
 ],
 "metadata": {
  "interpreter": {
   "hash": "ec60fe6eda9024476a390055a4f9290908315f18e2fea088e69d38770a436d29"
  },
  "kernelspec": {
   "display_name": "Python 3.9.6 ('ner_influence')",
   "language": "python",
   "name": "python3"
  },
  "language_info": {
   "codemirror_mode": {
    "name": "ipython",
    "version": 3
   },
   "file_extension": ".py",
   "mimetype": "text/x-python",
   "name": "python",
   "nbconvert_exporter": "python",
   "pygments_lexer": "ipython3",
   "version": "3.9.6"
  },
  "orig_nbformat": 4
 },
 "nbformat": 4,
 "nbformat_minor": 2
}
