{
 "cells": [
  {
   "cell_type": "code",
   "execution_count": null,
   "metadata": {},
   "outputs": [],
   "source": [
    "from ner_influence.linear_modelling.datamodule import LinearNERDataModule\n",
    "data = LinearNERDataModule(\n",
    "    splits={\n",
    "        \"train\": \"data/conll_corrected/train_corrected.jsonl\",\n",
    "        \"validation\": \"data/conll_corrected/validation_corrected.jsonl\",\n",
    "        \"test\": \"data/conll_corrected/test_corrected.jsonl\",\n",
    "    },\n",
    "    label_list=None,\n",
    "    batch_size=64,\n",
    ")\n",
    "data.setup()\n",
    "data._label_list "
   ]
  },
  {
   "cell_type": "code",
   "execution_count": null,
   "metadata": {},
   "outputs": [],
   "source": [
    "from ner_influence.linear_modelling.scaffolding import LinearNERScaffolding"
   ]
  },
  {
   "cell_type": "code",
   "execution_count": null,
   "metadata": {},
   "outputs": [],
   "source": [
    "scaff = LinearNERScaffolding(data, seed=2022, reg_strength=1.0)\n",
    "scaff.sample_data(1000, 200)\n",
    "scaff.print_loss_and_grad()\n",
    "scaff.train()\n",
    "scaff.evaluate()"
   ]
  },
  {
   "cell_type": "code",
   "execution_count": null,
   "metadata": {},
   "outputs": [],
   "source": [
    "scaff.hessian()"
   ]
  },
  {
   "cell_type": "code",
   "execution_count": null,
   "metadata": {},
   "outputs": [],
   "source": [
    "scaff.train_predictions = scaff.generate_all_predictions(\"sampled_train\")\n",
    "scaff.val_predictions = scaff.generate_all_predictions(\"sampled_validation\")"
   ]
  },
  {
   "cell_type": "code",
   "execution_count": null,
   "metadata": {},
   "outputs": [],
   "source": [
    "s = 0.0\n",
    "for x in scaff.val_predictions:\n",
    "    s += (x[\"gold_labels\"] != x[\"predicted_labels\"]).sum()\n",
    "s"
   ]
  },
  {
   "cell_type": "code",
   "execution_count": null,
   "metadata": {},
   "outputs": [],
   "source": [
    "scaff.train_gradients = [scaff.gradient(x) for x in scaff.train_predictions]\n",
    "scaff.val_gradients = [scaff.gradient(x) for x in scaff.val_predictions]"
   ]
  },
  {
   "cell_type": "code",
   "execution_count": null,
   "metadata": {},
   "outputs": [],
   "source": [
    "import numpy as np\n",
    "mispredictions = [(i, y) for i, x in enumerate(scaff.val_predictions) for y in np.where(x[\"gold_labels\"] != x[\"predicted_labels\"])[0]]\n",
    "\n",
    "sampled_mispredictions = [\n",
    "    mispredictions[i]\n",
    "    for i in np.random.RandomState(seed=2022).choice(len(mispredictions), size=20, replace=False)\n",
    "]"
   ]
  },
  {
   "cell_type": "code",
   "execution_count": null,
   "metadata": {},
   "outputs": [],
   "source": [
    "scaff.open_file(\"outputs/linear_model_exact_influence.tsv\")\n",
    "\n",
    "for val_idx, val_token_idx in sampled_mispredictions:\n",
    "    influence_instances = scaff.compute_influence(val_idx, val_token_idx)\n",
    "\n",
    "    for train_idx, train_token_idx in influence_instances:\n",
    "        values = scaff.retrain(train_idx, train_token_idx, val_idx, val_token_idx)\n",
    "        scaff.store(values)\n",
    "\n",
    "scaff.close()"
   ]
  },
  {
   "cell_type": "markdown",
   "metadata": {},
   "source": [
    "## Generate Data"
   ]
  },
  {
   "cell_type": "code",
   "execution_count": 33,
   "metadata": {},
   "outputs": [],
   "source": [
    "from ner_influence.linear_modelling.datamodule import SyntheticNERDataModule\n",
    "\n",
    "data = SyntheticNERDataModule(batch_size=64)\n",
    "data.setup()"
   ]
  },
  {
   "cell_type": "code",
   "execution_count": 34,
   "metadata": {},
   "outputs": [
    {
     "name": "stderr",
     "output_type": "stream",
     "text": [
      "Global seed set to 2022\n"
     ]
    },
    {
     "name": "stdout",
     "output_type": "stream",
     "text": [
      "33.334228515625 {'_feature_to_logit.weight': 13.278122901916504, '_crf.transitions': 12.113810539245605}\n",
      "Iter: 100 -- 8.4326810836792 0.0002838345244526863 0.1\n",
      "Iter: 200 -- 8.432605743408203 7.551512680947781e-06 0.1\n",
      "Opt condition reached\n",
      "Iter: 207 -- 8.432612419128418 4.839705070480704e-06 0.1\n",
      "8.432612419128418 {'_feature_to_logit.weight': 1.2679606697929557e-05, '_crf.transitions': 7.025433205853915e-06}\n"
     ]
    },
    {
     "ename": "TypeError",
     "evalue": "predict_step() missing 1 required positional argument: 'batch_idx'",
     "output_type": "error",
     "traceback": [
      "\u001b[0;31m---------------------------------------------------------------------------\u001b[0m",
      "\u001b[0;31mTypeError\u001b[0m                                 Traceback (most recent call last)",
      "\u001b[0;32m/tmp/ipykernel_452954/3749264810.py\u001b[0m in \u001b[0;36m<module>\u001b[0;34m\u001b[0m\n\u001b[1;32m      4\u001b[0m \u001b[0mscaff\u001b[0m\u001b[0;34m.\u001b[0m\u001b[0mprint_loss_and_grad\u001b[0m\u001b[0;34m(\u001b[0m\u001b[0;34m)\u001b[0m\u001b[0;34m\u001b[0m\u001b[0;34m\u001b[0m\u001b[0m\n\u001b[1;32m      5\u001b[0m \u001b[0mscaff\u001b[0m\u001b[0;34m.\u001b[0m\u001b[0mtrain\u001b[0m\u001b[0;34m(\u001b[0m\u001b[0mtol\u001b[0m\u001b[0;34m=\u001b[0m\u001b[0;36m5e-6\u001b[0m\u001b[0;34m)\u001b[0m\u001b[0;34m\u001b[0m\u001b[0;34m\u001b[0m\u001b[0m\n\u001b[0;32m----> 6\u001b[0;31m \u001b[0mscaff\u001b[0m\u001b[0;34m.\u001b[0m\u001b[0mevaluate\u001b[0m\u001b[0;34m(\u001b[0m\u001b[0;34m)\u001b[0m\u001b[0;34m\u001b[0m\u001b[0;34m\u001b[0m\u001b[0m\n\u001b[0m",
      "\u001b[0;32m/media/data/projects/ner_influence/ner_influence/linear_modelling/scaffolding.py\u001b[0m in \u001b[0;36mevaluate\u001b[0;34m(self)\u001b[0m\n\u001b[1;32m     92\u001b[0m         \u001b[0moutputs\u001b[0m \u001b[0;34m=\u001b[0m \u001b[0;34m[\u001b[0m\u001b[0;34m]\u001b[0m\u001b[0;34m\u001b[0m\u001b[0;34m\u001b[0m\u001b[0m\n\u001b[1;32m     93\u001b[0m         \u001b[0;32mfor\u001b[0m \u001b[0mbatch\u001b[0m \u001b[0;32min\u001b[0m \u001b[0mself\u001b[0m\u001b[0;34m.\u001b[0m\u001b[0mdata\u001b[0m\u001b[0;34m.\u001b[0m\u001b[0mdataloader_from_split\u001b[0m\u001b[0;34m(\u001b[0m\u001b[0;34m\"sampled_validation\"\u001b[0m\u001b[0;34m)\u001b[0m\u001b[0;34m:\u001b[0m\u001b[0;34m\u001b[0m\u001b[0;34m\u001b[0m\u001b[0m\n\u001b[0;32m---> 94\u001b[0;31m             \u001b[0moutputs\u001b[0m\u001b[0;34m.\u001b[0m\u001b[0mappend\u001b[0m\u001b[0;34m(\u001b[0m\u001b[0mself\u001b[0m\u001b[0;34m.\u001b[0m\u001b[0mmodel\u001b[0m\u001b[0;34m.\u001b[0m\u001b[0mpredict_step\u001b[0m\u001b[0;34m(\u001b[0m\u001b[0mbatch\u001b[0m\u001b[0;34m)\u001b[0m\u001b[0;34m)\u001b[0m\u001b[0;34m\u001b[0m\u001b[0;34m\u001b[0m\u001b[0m\n\u001b[0m\u001b[1;32m     95\u001b[0m         \u001b[0moutputs\u001b[0m \u001b[0;34m=\u001b[0m \u001b[0;34m[\u001b[0m\u001b[0mitem\u001b[0m \u001b[0;32mfor\u001b[0m \u001b[0mbatch\u001b[0m \u001b[0;32min\u001b[0m \u001b[0moutputs\u001b[0m \u001b[0;32mfor\u001b[0m \u001b[0mitem\u001b[0m \u001b[0;32min\u001b[0m \u001b[0mbatch\u001b[0m\u001b[0;34m]\u001b[0m\u001b[0;34m\u001b[0m\u001b[0;34m\u001b[0m\u001b[0m\n\u001b[1;32m     96\u001b[0m \u001b[0;34m\u001b[0m\u001b[0m\n",
      "\u001b[0;31mTypeError\u001b[0m: predict_step() missing 1 required positional argument: 'batch_idx'"
     ]
    }
   ],
   "source": [
    "from ner_influence.linear_modelling.scaffolding import LinearNERScaffolding\n",
    "scaff = LinearNERScaffolding(data, seed=2022, reg_strength=1.0)\n",
    "# scaff.sample_data(1000, 200)\n",
    "scaff.print_loss_and_grad()\n",
    "scaff.train(tol=5e-6)\n",
    "scaff.evaluate()"
   ]
  },
  {
   "cell_type": "code",
   "execution_count": 35,
   "metadata": {},
   "outputs": [
    {
     "name": "stderr",
     "output_type": "stream",
     "text": [
      "100%|██████████| 5/5 [00:08<00:00,  1.78s/it]\n"
     ]
    }
   ],
   "source": [
    "scaff.hessian()"
   ]
  },
  {
   "cell_type": "code",
   "execution_count": 36,
   "metadata": {},
   "outputs": [],
   "source": [
    "scaff.train_predictions = scaff.generate_all_predictions(\"sampled_train\")\n",
    "scaff.val_predictions = scaff.generate_all_predictions(\"sampled_validation\")"
   ]
  },
  {
   "cell_type": "code",
   "execution_count": 37,
   "metadata": {},
   "outputs": [
    {
     "data": {
      "text/plain": [
       "590.0"
      ]
     },
     "execution_count": 37,
     "metadata": {},
     "output_type": "execute_result"
    }
   ],
   "source": [
    "s = 0.0\n",
    "for x in scaff.val_predictions:\n",
    "    s += (x[\"gold_labels\"] != x[\"predicted_labels\"]).sum()\n",
    "s"
   ]
  },
  {
   "cell_type": "code",
   "execution_count": 38,
   "metadata": {},
   "outputs": [],
   "source": [
    "scaff.train_gradients = [scaff.gradient(x) for x in scaff.train_predictions]\n",
    "scaff.val_gradients = [scaff.gradient(x) for x in scaff.val_predictions]"
   ]
  },
  {
   "cell_type": "code",
   "execution_count": 39,
   "metadata": {},
   "outputs": [],
   "source": [
    "import numpy as np\n",
    "mispredictions = [(i, y) for i, x in enumerate(scaff.val_predictions) for y in np.where(x[\"gold_labels\"] != x[\"predicted_labels\"])[0]]\n",
    "\n",
    "sampled_mispredictions = [\n",
    "    mispredictions[i]\n",
    "    for i in np.random.RandomState(seed=2022).choice(len(mispredictions), size=20, replace=False)\n",
    "]"
   ]
  },
  {
   "cell_type": "code",
   "execution_count": 40,
   "metadata": {},
   "outputs": [
    {
     "name": "stderr",
     "output_type": "stream",
     "text": [
      "Global seed set to 2022\n"
     ]
    },
    {
     "name": "stdout",
     "output_type": "stream",
     "text": [
      "defaultdict(<class 'list'>, {775: [20]})\n",
      "Iter: 100 -- 8.430520057678223 0.00033795321360230446 0.1\n",
      "Opt condition reached\n",
      "Iter: 192 -- 8.430436134338379 4.268018528819084e-06 0.1\n",
      "8.430436134338379 {'_feature_to_logit.weight': 1.0446952728671022e-05, '_crf.transitions': 9.646710168453865e-06}\n",
      "2.177491 2.1696074183129856 0.007883531317751657 0.007845925976205585\n"
     ]
    },
    {
     "name": "stderr",
     "output_type": "stream",
     "text": [
      "Global seed set to 2022\n"
     ]
    },
    {
     "name": "stdout",
     "output_type": "stream",
     "text": [
      "defaultdict(<class 'list'>, {798: [20]})\n",
      "Iter: 100 -- 8.430517196655273 0.0004654881195165217 0.1\n",
      "Opt condition reached\n",
      "Iter: 181 -- 8.430435180664062 4.451139830052853e-06 0.1\n",
      "8.430435180664062 {'_feature_to_logit.weight': 1.06197676359443e-05, '_crf.transitions': 1.0525127436267212e-05}\n",
      "2.1775138 2.1696074183129856 0.007906419501345407 0.007845925976205585\n"
     ]
    },
    {
     "name": "stderr",
     "output_type": "stream",
     "text": [
      "Global seed set to 2022\n"
     ]
    },
    {
     "name": "stdout",
     "output_type": "stream",
     "text": [
      "defaultdict(<class 'list'>, {805: [20]})\n",
      "Iter: 100 -- 8.430511474609375 0.00025317328982055187 0.1\n",
      "Opt condition reached\n",
      "Iter: 186 -- 8.430427551269531 4.852074198424816e-06 0.1\n",
      "8.430427551269531 {'_feature_to_logit.weight': 9.772111297934316e-06, '_crf.transitions': 7.892769644968212e-06}\n",
      "2.1775014 2.1696074183129856 0.007894021735232126 0.007845925976205585\n"
     ]
    },
    {
     "name": "stderr",
     "output_type": "stream",
     "text": [
      "Global seed set to 2022\n"
     ]
    },
    {
     "name": "stdout",
     "output_type": "stream",
     "text": [
      "defaultdict(<class 'list'>, {818: [20]})\n",
      "Iter: 100 -- 8.430510520935059 0.00024652527645230293 0.1\n",
      "Opt condition reached\n",
      "Iter: 183 -- 8.43043041229248 4.4298358261585236e-06 0.1\n",
      "8.43043041229248 {'_feature_to_logit.weight': 9.351280823466368e-06, '_crf.transitions': 9.007889275380876e-06}\n",
      "2.1775212 2.1696074183129856 0.007913810477297556 0.007845925976205585\n"
     ]
    },
    {
     "name": "stderr",
     "output_type": "stream",
     "text": [
      "Global seed set to 2022\n"
     ]
    },
    {
     "name": "stdout",
     "output_type": "stream",
     "text": [
      "defaultdict(<class 'list'>, {823: [20]})\n",
      "Iter: 100 -- 8.430535316467285 0.0003037473652511835 0.1\n",
      "Opt condition reached\n",
      "Iter: 193 -- 8.43043327331543 4.109577275812626e-06 0.1\n",
      "8.43043327331543 {'_feature_to_logit.weight': 1.3912111171521246e-05, '_crf.transitions': 8.588572200096678e-06}\n",
      "2.1775088 2.1696074183129856 0.007901412711184275 0.007845925976205585\n"
     ]
    },
    {
     "name": "stderr",
     "output_type": "stream",
     "text": [
      "Global seed set to 2022\n"
     ]
    },
    {
     "name": "stdout",
     "output_type": "stream",
     "text": [
      "defaultdict(<class 'list'>, {838: [20]})\n",
      "Iter: 100 -- 8.43052864074707 0.0002653405535966158 0.1\n",
      "Opt condition reached\n",
      "Iter: 177 -- 8.430424690246582 4.165177870163461e-06 0.1\n",
      "8.430424690246582 {'_feature_to_logit.weight': 1.0180246135860216e-05, '_crf.transitions': 9.038907592184842e-06}\n",
      "2.177532 2.1696074183129856 0.007924539313357126 0.007845925976205585\n"
     ]
    },
    {
     "name": "stderr",
     "output_type": "stream",
     "text": [
      "Global seed set to 2022\n"
     ]
    },
    {
     "name": "stdout",
     "output_type": "stream",
     "text": [
      "defaultdict(<class 'list'>, {850: [20]})\n",
      "Iter: 100 -- 8.430527687072754 0.00048402673564851284 0.1\n",
      "Opt condition reached\n",
      "Iter: 187 -- 8.430436134338379 4.059984348714352e-06 0.1\n",
      "8.430436134338379 {'_feature_to_logit.weight': 1.070013331627706e-05, '_crf.transitions': 9.16421504371101e-06}\n",
      "2.1775181 2.1696074183129856 0.007910711035769236 0.007845925976205585\n"
     ]
    },
    {
     "name": "stderr",
     "output_type": "stream",
     "text": [
      "Global seed set to 2022\n"
     ]
    },
    {
     "name": "stdout",
     "output_type": "stream",
     "text": [
      "defaultdict(<class 'list'>, {925: [20]})\n",
      "Iter: 100 -- 8.430527687072754 0.0002749671693891287 0.1\n",
      "Iter: 200 -- 8.430438041687012 1.4857621863484383e-05 0.1\n",
      "Opt condition reached\n",
      "Iter: 236 -- 8.430432319641113 4.6335626393556595e-06 0.1\n",
      "8.430432319641113 {'_feature_to_logit.weight': 1.0435139301989693e-05, '_crf.transitions': 8.504523975716438e-06}\n",
      "2.177501 2.1696074183129856 0.007893544898073923 0.007845925976205585\n"
     ]
    },
    {
     "name": "stderr",
     "output_type": "stream",
     "text": [
      "Global seed set to 2022\n"
     ]
    },
    {
     "name": "stdout",
     "output_type": "stream",
     "text": [
      "defaultdict(<class 'list'>, {985: [20]})\n",
      "Iter: 100 -- 8.430503845214844 0.00029529561288654804 0.1\n",
      "Opt condition reached\n",
      "Iter: 197 -- 8.430428504943848 4.590488970279694e-06 0.1\n",
      "8.430428504943848 {'_feature_to_logit.weight': 8.868741133483127e-06, '_crf.transitions': 1.0738005585153587e-05}\n",
      "2.1775079 2.1696074183129856 0.007900459036867868 0.007845925976205585\n"
     ]
    },
    {
     "name": "stderr",
     "output_type": "stream",
     "text": [
      "Global seed set to 2022\n"
     ]
    },
    {
     "name": "stdout",
     "output_type": "stream",
     "text": [
      "defaultdict(<class 'list'>, {987: [20]})\n",
      "Iter: 100 -- 8.430516242980957 0.0003697869833558798 0.1\n",
      "Opt condition reached\n",
      "Iter: 180 -- 8.43043327331543 4.536312189884484e-06 0.1\n",
      "8.43043327331543 {'_feature_to_logit.weight': 1.33069124785834e-05, '_crf.transitions': 1.1327833817631472e-05}\n",
      "2.1775217 2.1696074183129856 0.007914287314455759 0.007845925976205585\n"
     ]
    }
   ],
   "source": [
    "# scaff.open_file(\"outputs/linear_model_exact_influence.tsv\")\n",
    "\n",
    "for val_idx, val_token_idx in sampled_mispredictions[:1]:\n",
    "    influence_instances = scaff.compute_influence(val_idx, val_token_idx)\n",
    "\n",
    "    for train_idx, train_token_idx in influence_instances:\n",
    "        values = scaff.retrain(train_idx, train_token_idx, val_idx, val_token_idx)\n",
    "        # scaff.store(values)\n",
    "\n",
    "# scaff.close()"
   ]
  },
  {
   "cell_type": "markdown",
   "metadata": {},
   "source": [
    "## Results"
   ]
  },
  {
   "cell_type": "code",
   "execution_count": 4,
   "metadata": {},
   "outputs": [],
   "source": [
    "import pandas as pd \n",
    "import numpy as np\n",
    "df = pd.read_csv(\"outputs/linear_model_exact_influence.tsv\", sep=\"\\t\", header=None)"
   ]
  },
  {
   "cell_type": "code",
   "execution_count": 5,
   "metadata": {},
   "outputs": [],
   "source": [
    "df = df[df[6] < 1.0]"
   ]
  },
  {
   "cell_type": "code",
   "execution_count": 6,
   "metadata": {},
   "outputs": [
    {
     "data": {
      "image/png": "[encoded data removed]",
      "text/plain": [
       "<Figure size 432x288 with 1 Axes>"
      ]
     },
     "metadata": {
      "image/png": {
       "height": 274,
       "width": 418
      },
      "needs_background": "light"
     },
     "output_type": "display_data"
    }
   ],
   "source": [
    "import matplotlib.pyplot as plt \n",
    "%config InlineBackend.figure_format = 'retina'\n",
    "import matplotlib\n",
    "matplotlib.rcParams['axes.spines.right'] = False\n",
    "matplotlib.rcParams['axes.spines.top'] = False\n",
    "matplotlib.rcParams.update({'font.size': 13})\n",
    "\n",
    "b, a = np.polyfit(df[6], df[7], deg=1)\n",
    "xseq = np.linspace(-0.9, 0.9, 1000)\n",
    "yseq = a + b*xseq\n",
    "\n",
    "plt.plot([-0.9, 0.9], [-0.9, 0.9], c=\"r\")\n",
    "plt.plot(xseq, yseq, c=\"r\", linestyle=\"--\")\n",
    "plt.scatter(df[6], df[7], s=20, alpha=0.4, c=\"b\")\n",
    "\n",
    "plt.xlabel(\"Actual Change in Loss\")\n",
    "plt.ylabel(\"Predicted Change in Loss\")\n",
    "plt.tight_layout()\n",
    "plt.savefig(\"linear_model_exact_influence.pdf\")"
   ]
  },
  {
   "cell_type": "code",
   "execution_count": 7,
   "metadata": {},
   "outputs": [],
   "source": [
    "b, a = np.polyfit(df[6], df[7], deg=1)"
   ]
  },
  {
   "cell_type": "code",
   "execution_count": 8,
   "metadata": {},
   "outputs": [
    {
     "data": {
      "text/plain": [
       "(0.5590649904564458, 0.0014695290146000642)"
      ]
     },
     "execution_count": 8,
     "metadata": {},
     "output_type": "execute_result"
    }
   ],
   "source": [
    "b, a"
   ]
  },
  {
   "cell_type": "code",
   "execution_count": 9,
   "metadata": {},
   "outputs": [],
   "source": [
    "xseq = np.linspace(-0.8, 0.75, 1000)\n",
    "yseq = a + b*xseq"
   ]
  },
  {
   "cell_type": "code",
   "execution_count": 10,
   "metadata": {},
   "outputs": [
    {
     "data": {
      "text/plain": [
       "array([[1.       , 0.8884399],\n",
       "       [0.8884399, 1.       ]])"
      ]
     },
     "execution_count": 10,
     "metadata": {},
     "output_type": "execute_result"
    }
   ],
   "source": [
    "np.corrcoef(df[6], df[7])"
   ]
  },
  {
   "cell_type": "code",
   "execution_count": null,
   "metadata": {},
   "outputs": [],
   "source": []
  }
 ],
 "metadata": {
  "interpreter": {
   "hash": "ec60fe6eda9024476a390055a4f9290908315f18e2fea088e69d38770a436d29"
  },
  "kernelspec": {
   "display_name": "Python 3.9.6 ('ner_influence')",
   "language": "python",
   "name": "python3"
  },
  "language_info": {
   "codemirror_mode": {
    "name": "ipython",
    "version": 3
   },
   "file_extension": ".py",
   "mimetype": "text/x-python",
   "name": "python",
   "nbconvert_exporter": "python",
   "pygments_lexer": "ipython3",
   "version": "3.9.6"
  },
  "orig_nbformat": 4
 },
 "nbformat": 4,
 "nbformat_minor": 2
}
