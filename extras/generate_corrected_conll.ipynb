{
 "cells": [
  {
   "cell_type": "code",
   "execution_count": 1,
   "metadata": {},
   "outputs": [],
   "source": [
    "read_conll = lambda f: [\n",
    "    [\n",
    "        [(z.strip().split(\" \")[0], z.strip().split(\" \")[-1]) for z in y.strip().split(\"\\n\")]\n",
    "        for y in x.strip().split(\"\\n\\n\")\n",
    "    ]\n",
    "    for x in open(f).read().strip().split(\"-DOCSTART- -X- -X- O\")\n",
    "    if len(x.strip()) > 0\n",
    "]"
   ]
  },
  {
   "cell_type": "code",
   "execution_count": 2,
   "metadata": {},
   "outputs": [],
   "source": [
    "import json\n",
    "from seqeval.scheme import Tokens, IOB2, Entities"
   ]
  },
  {
   "cell_type": "code",
   "execution_count": 3,
   "metadata": {},
   "outputs": [],
   "source": [
    "def docs_to_sentences(docs, split):\n",
    "    data = []\n",
    "\n",
    "    for docid, sents in enumerate(docs):\n",
    "        for sentid, sent in enumerate(sents):\n",
    "            new_x = []\n",
    "            for i, (t, l) in enumerate(sent):\n",
    "                s, e = l.split(\"-\") if l != \"O\" else (None, None)\n",
    "                if s == \"I\" and (i == 0 or sent[i - 1][1] == \"O\" or sent[i - 1][1].split(\"-\")[1] != e):\n",
    "                    l = \"B-\" + l.split(\"-\")[1]\n",
    "                new_x.append((t, l))\n",
    "            tokens, labels = tuple(zip(*new_x))\n",
    "            new_x = {\"id\" : f\"conll_{split}_{docid}_{sentid}\", \"tokens\": tokens, \"ner_tags\": labels}\n",
    "            data.append(new_x)\n",
    "\n",
    "    Entities([x[\"ner_tags\"] for x in data], IOB2)\n",
    "\n",
    "    return data"
   ]
  },
  {
   "cell_type": "code",
   "execution_count": 10,
   "metadata": {},
   "outputs": [
    {
     "name": "stdout",
     "output_type": "stream",
     "text": [
      "59 348 12528 946\n",
      "15 234 2775 216\n",
      "37 213 2581 231\n"
     ]
    }
   ],
   "source": [
    "for name, split in [(\"train\", \"train\"), (\"testa\", \"validation\"), (\"testb\", \"test\")]:\n",
    "    new_docs = read_conll(f\"Identifying-Incorrect-Labels-In-CoNLL-2003/corrected_corpus/eng.{name}\")\n",
    "    old_docs = read_conll(f\"Identifying-Incorrect-Labels-In-CoNLL-2003/original_corpus/eng.{name}\")\n",
    "\n",
    "    bad = 0\n",
    "    matched_old_docs, matched_new_docs = [], []\n",
    "    for o, n in zip(old_docs, new_docs):\n",
    "        ## Has same chars\n",
    "        assert \"\".join([t[0] for x in o for t in x]) == \"\".join([t[0] for x in n for t in x])\n",
    "        \n",
    "        if len(o) != len(n):\n",
    "            bad += 1 \n",
    "            continue \n",
    "\n",
    "        if any(\" \".join([t[0] for t in x]) != \" \".join([t[0] for t in y]) for x, y in zip(o, n)):\n",
    "            bad += 1 \n",
    "            continue\n",
    "\n",
    "        matched_old_docs.append(o)\n",
    "        matched_new_docs.append(n)\n",
    "\n",
    "    matched_old_docs = docs_to_sentences(matched_old_docs, split)\n",
    "    matched_new_docs = docs_to_sentences(matched_new_docs, split)\n",
    "\n",
    "    with open(f\"data/conll_corrected/{split}_original.jsonl\", \"w\") as f:\n",
    "        f.write(\"\\n\".join(list(map(json.dumps, matched_old_docs))))\n",
    "\n",
    "    with open(f\"data/conll_corrected/{split}_corrected.jsonl\", \"w\") as f:\n",
    "        f.write(\"\\n\".join(list(map(json.dumps, matched_new_docs))))\n",
    "\n",
    "    diff_l = 0\n",
    "    for o, n in zip(matched_old_docs, matched_new_docs):\n",
    "        if o[\"ner_tags\"] != n[\"ner_tags\"]:\n",
    "            diff_l += 1\n",
    "\n",
    "    print(bad, diff_l, len(matched_new_docs), len(old_docs))"
   ]
  },
  {
   "cell_type": "code",
   "execution_count": null,
   "metadata": {},
   "outputs": [],
   "source": []
  }
 ],
 "metadata": {
  "interpreter": {
   "hash": "ec60fe6eda9024476a390055a4f9290908315f18e2fea088e69d38770a436d29"
  },
  "kernelspec": {
   "display_name": "Python 3.9.6 64-bit ('ner_influence': conda)",
   "language": "python",
   "name": "python3"
  },
  "language_info": {
   "codemirror_mode": {
    "name": "ipython",
    "version": 3
   },
   "file_extension": ".py",
   "mimetype": "text/x-python",
   "name": "python",
   "nbconvert_exporter": "python",
   "pygments_lexer": "ipython3",
   "version": "3.9.6"
  },
  "orig_nbformat": 4
 },
 "nbformat": 4,
 "nbformat_minor": 2
}
